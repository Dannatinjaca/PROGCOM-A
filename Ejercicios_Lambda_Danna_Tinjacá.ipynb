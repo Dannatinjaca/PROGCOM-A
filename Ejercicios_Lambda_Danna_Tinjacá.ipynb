{
  "nbformat": 4,
  "nbformat_minor": 0,
  "metadata": {
    "colab": {
      "provenance": [],
      "include_colab_link": true
    },
    "kernelspec": {
      "name": "python3",
      "display_name": "Python 3"
    },
    "language_info": {
      "name": "python"
    }
  },
  "cells": [
    {
      "cell_type": "markdown",
      "metadata": {
        "id": "view-in-github",
        "colab_type": "text"
      },
      "source": [
        "<a href=\"https://colab.research.google.com/github/Dannatinjaca/PROGCOM-A/blob/main/Ejercicios_Lambda_Danna_Tinjac%C3%A1.ipynb\" target=\"_parent\"><img src=\"https://colab.research.google.com/assets/colab-badge.svg\" alt=\"Open In Colab\"/></a>"
      ]
    },
    {
      "cell_type": "code",
      "source": [
        "# 1. Números pares del 1 al 100\n",
        "pares = list(filter(lambda x: x % 2 == 0, range(1, 101)))\n",
        "print(pares)\n"
      ],
      "metadata": {
        "id": "HlaEB5Lv2t9D"
      },
      "execution_count": null,
      "outputs": []
    },
    {
      "cell_type": "code",
      "source": [
        "# 2. Sumar los dígitos de un número\n",
        "numero = input(\"Ingresa un número: \")\n",
        "suma_digitos = lambda n: sum(int(d) for d in n)\n",
        "print(\"La suma de los dígitos es:\", suma_digitos(numero))\n",
        "\n"
      ],
      "metadata": {
        "id": "yMv1_Yg926tT"
      },
      "execution_count": null,
      "outputs": []
    },
    {
      "cell_type": "code",
      "source": [
        "# 3. Verificar si un número es primo\n",
        "es_primo = lambda n: all(n % i != 0 for i in range(2, int(n ** 0.5) + 1)) and n > 1\n",
        "num = int(input(\"Escribe un número: \"))\n",
        "print(f\"{num} es primo.\" if es_primo(num) else f\"{num} no es primo.\")\n"
      ],
      "metadata": {
        "id": "dJssmWNs3aMm"
      },
      "execution_count": null,
      "outputs": []
    },
    {
      "cell_type": "code",
      "source": [
        "# 4. Imprimir un triángulo con asteriscos\n",
        "altura = int(input(\"Altura del triángulo: \"))\n",
        "triangulo = lambda h: [print('*' * i) for i in range(1, h + 1)]\n",
        "triangulo(altura)"
      ],
      "metadata": {
        "id": "Va_0HusK3pSB"
      },
      "execution_count": null,
      "outputs": []
    },
    {
      "cell_type": "code",
      "source": [
        "# 5. Adivinar un color en 10 intentos\n",
        "import random\n",
        "colores = [input(f\"Color {i + 1}: \") for i in range(10)]\n",
        "color_aleatorio = random.choice(colores)\n",
        "adivina = lambda: any(input(\"Adivina el color: \") == color_aleatorio for _ in range(10))\n",
        "print(\"¡Adivinaste!\" if adivina() else f\"No era, era {color_aleatorio}\")"
      ],
      "metadata": {
        "id": "4QAVmKRyohQV"
      },
      "execution_count": null,
      "outputs": []
    }
  ]
}