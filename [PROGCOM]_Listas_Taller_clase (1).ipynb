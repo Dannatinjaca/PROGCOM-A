{
  "nbformat": 4,
  "nbformat_minor": 0,
  "metadata": {
    "colab": {
      "provenance": []
    },
    "kernelspec": {
      "name": "python3",
      "display_name": "Python 3"
    },
    "language_info": {
      "name": "python"
    }
  },
  "cells": [
    {
      "cell_type": "code",
      "execution_count": 4,
      "metadata": {
        "id": "qHF4ZGrsx5NR"
      },
      "outputs": [],
      "source": [
        "# 15. Validar si tres números pueden formar un triángulo y su tipo\n",
        "def tipo_triangulo(a, b, c):\n",
        "    lados = [a, b, c]\n",
        "    lados.sort()\n",
        "    if lados[0] + lados[1] <= lados[2]:\n",
        "        return \"No es un triángulo\"\n",
        "    elif a == b == c:\n",
        "        return \"Equilátero\"\n",
        "    elif a == b or a == c or b == c:\n",
        "        return \"Isósceles\"\n",
        "    else:\n",
        "        return \"Escaleno\"\n"
      ]
    },
    {
      "cell_type": "code",
      "source": [
        "# 16. Tabla de multiplicar de un número hasta el 10\n",
        "def tabla_multiplicar(n):\n",
        "    resultado = []\n",
        "    for i in range(1, 11):\n",
        "        resultado.append(f\"{n} x {i} = {n * i}\")\n",
        "    return resultado"
      ],
      "metadata": {
        "id": "1I5OjI4myiIr"
      },
      "execution_count": 3,
      "outputs": []
    },
    {
      "cell_type": "code",
      "source": [
        "# 17. Suma de números naturales hasta n\n",
        "def suma_naturales(n):\n",
        "    return sum(range(1, n + 1))\n"
      ],
      "metadata": {
        "id": "ZYo4aHxyzLiY"
      },
      "execution_count": null,
      "outputs": []
    },
    {
      "cell_type": "code",
      "source": [
        "# 18. Factorial de un número\n",
        "def factorial(n):\n",
        "    if n < 0:\n",
        "        return \"No existe factorial de números negativos\"\n",
        "    resultado = 1\n",
        "    for i in range(2, n + 1):\n",
        "        resultado *= i\n",
        "    return resultado\n"
      ],
      "metadata": {
        "id": "ftlgXUvJzRNi"
      },
      "execution_count": null,
      "outputs": []
    },
    {
      "cell_type": "code",
      "source": [
        "# 19. Serie Fibonacci hasta n términos\n",
        "def fibonacci(n):\n",
        "    serie = [0, 1]\n",
        "    for _ in range(n - 2):\n",
        "        serie.append(serie[-1] + serie[-2])\n",
        "    return serie[:n]"
      ],
      "metadata": {
        "id": "Kz1EUT7ZzTB6"
      },
      "execution_count": null,
      "outputs": []
    },
    {
      "cell_type": "code",
      "source": [
        "# 20. Adivinar un color en 10 intentos\n",
        "import random\n",
        "\n",
        "def adivinar_color(colores):\n",
        "    colores.sort()\n",
        "    color_secreto = random.choice(colores)\n",
        "    intentos = 0\n",
        "    while intentos < 10:\n",
        "        intento = input(\"Adivina el color: \")\n",
        "        if intento == color_secreto:\n",
        "            return \"¡Correcto! Era \" + color_secreto\n",
        "        intentos += 1\n",
        "    return \"Perdiste. El color era \" + color_secreto\n"
      ],
      "metadata": {
        "id": "xHwtKocqzbgJ"
      },
      "execution_count": null,
      "outputs": []
    },
    {
      "cell_type": "code",
      "source": [
        "# 21. Números pares del 1 al 100\n",
        "def numeros_pares():\n",
        "    return list(range(2, 101, 2))"
      ],
      "metadata": {
        "id": "sEWagYYcziKx"
      },
      "execution_count": null,
      "outputs": []
    },
    {
      "cell_type": "code",
      "source": [
        "# 22. Suma de los dígitos de un número\n",
        "def suma_digitos(n):\n",
        "    return sum(int(digito) for digito in str(n))\n"
      ],
      "metadata": {
        "id": "HJvZ9krpzjg0"
      },
      "execution_count": null,
      "outputs": []
    },
    {
      "cell_type": "code",
      "source": [
        "# 23. Determinar si un número es primo\n",
        "def es_primo(n):\n",
        "    if n < 2:\n",
        "        return False\n",
        "    for i in range(2, int(n ** 0.5) + 1):\n",
        "        if n % i == 0:\n",
        "            return False\n",
        "    return True\n"
      ],
      "metadata": {
        "id": "8Eh6JFauzmY3"
      },
      "execution_count": null,
      "outputs": []
    },
    {
      "cell_type": "code",
      "source": [
        "\n",
        "# 24. Triángulo con asteriscos\n",
        "def triangulo_asteriscos(n):\n",
        "    for i in range(1, n + 1):\n",
        "        print(\"*\" * i)"
      ],
      "metadata": {
        "id": "dakHyiSSzpxk"
      },
      "execution_count": 14,
      "outputs": []
    },
    {
      "cell_type": "code",
      "source": [
        "# 25. Potencia de un número sin operador\n",
        "def potencia(base, exponente):\n",
        "    resultado = 1\n",
        "    for _ in range(exponente):\n",
        "        resultado *= base\n",
        "    return resultado"
      ],
      "metadata": {
        "id": "W_jZV69Hzsu4"
      },
      "execution_count": null,
      "outputs": []
    },
    {
      "cell_type": "code",
      "source": [
        "print(\"\\n\" + \"-\"*30)\n",
        "print(\"Tipo de triángulo:\", tipo_triangulo(5, 6, 7))\n",
        "print(\"-\"*30 + \"\\n\")\n",
        "\n",
        "print(\"\\n\" + \"-\"*30)\n",
        "print(\"Tabla de multiplicar del 5:\")\n",
        "print(tabla_multiplicar(5))\n",
        "print(\"-\"*30 + \"\\n\")\n",
        "\n",
        "print(\"\\n\" + \"-\"*30)\n",
        "print(\"Suma de naturales hasta 10:\", suma_naturales(10))\n",
        "print(\"-\"*30 + \"\\n\")\n",
        "\n",
        "print(\"\\n\" + \"-\"*30)\n",
        "print(\"Factorial de 5:\", factorial(5))\n",
        "print(\"-\"*30 + \"\\n\")\n",
        "\n",
        "print(\"\\n\" + \"-\"*30)\n",
        "print(\"Serie Fibonacci (6 términos):\", fibonacci(6))\n",
        "print(\"-\"*30 + \"\\n\")\n",
        "\n",
        "print(\"\\n\" + \"-\"*30)\n",
        "print(\"Números pares del 1 al 100:\")\n",
        "print(numeros_pares())\n",
        "print(\"-\"*30 + \"\\n\")\n",
        "\n",
        "print(\"\\n\" + \"-\"*30)\n",
        "print(\"Suma de los dígitos de 1234:\", suma_digitos(1234))\n",
        "print(\"-\"*30 + \"\\n\")\n",
        "\n",
        "print(\"\\n\" + \"-\"*30)\n",
        "print(\"¿El número 7 es primo?:\", es_primo(7))\n",
        "print(\"-\"*30 + \"\\n\")\n",
        "\n",
        "print(\"\\n\" + \"-\"*30)\n",
        "print(\"Triángulo de 5 niveles:\")\n",
        "triangulo_asteriscos(5)\n",
        "print(\"-\"*30 + \"\\n\")\n",
        "\n",
        "print(\"\\n\" + \"-\"*30)\n",
        "print(\"2 elevado a la 3:\", potencia(2, 3))\n",
        "print(\"-\"*30 + \"\\n\")\n"
      ],
      "metadata": {
        "colab": {
          "base_uri": "https://localhost:8080/"
        },
        "id": "KGhdpEOI3ppt",
        "outputId": "babf1b0e-cb6e-496f-f1bf-a625e81e799d"
      },
      "execution_count": 15,
      "outputs": [
        {
          "output_type": "stream",
          "name": "stdout",
          "text": [
            "\n",
            "------------------------------\n",
            "Tipo de triángulo: Escaleno\n",
            "------------------------------\n",
            "\n",
            "\n",
            "------------------------------\n",
            "Tabla de multiplicar del 5:\n",
            "[5, 10, 15, 20, 25, 30, 35, 40, 45, 50]\n",
            "------------------------------\n",
            "\n",
            "\n",
            "------------------------------\n",
            "Suma de naturales hasta 10: 55\n",
            "------------------------------\n",
            "\n",
            "\n",
            "------------------------------\n",
            "Factorial de 5: 120\n",
            "------------------------------\n",
            "\n",
            "\n",
            "------------------------------\n",
            "Serie Fibonacci (6 términos): [0, 1, 1, 2, 3, 5]\n",
            "------------------------------\n",
            "\n",
            "\n",
            "------------------------------\n",
            "Números pares del 1 al 100:\n",
            "[2, 4, 6, 8, 10, 12, 14, 16, 18, 20, 22, 24, 26, 28, 30, 32, 34, 36, 38, 40, 42, 44, 46, 48, 50, 52, 54, 56, 58, 60, 62, 64, 66, 68, 70, 72, 74, 76, 78, 80, 82, 84, 86, 88, 90, 92, 94, 96, 98, 100]\n",
            "------------------------------\n",
            "\n",
            "\n",
            "------------------------------\n",
            "Suma de los dígitos de 1234: 10\n",
            "------------------------------\n",
            "\n",
            "\n",
            "------------------------------\n",
            "¿El número 7 es primo?: True\n",
            "------------------------------\n",
            "\n",
            "\n",
            "------------------------------\n",
            "Triángulo de 5 niveles:\n",
            "*\n",
            "**\n",
            "***\n",
            "****\n",
            "*****\n",
            "------------------------------\n",
            "\n",
            "\n",
            "------------------------------\n",
            "2 elevado a la 3: 8\n",
            "------------------------------\n",
            "\n"
          ]
        }
      ]
    }
  ]
}