{
  "nbformat": 4,
  "nbformat_minor": 0,
  "metadata": {
    "colab": {
      "provenance": [],
      "include_colab_link": true
    },
    "kernelspec": {
      "name": "python3",
      "display_name": "Python 3"
    },
    "language_info": {
      "name": "python"
    },
    "widgets": {
      "application/vnd.jupyter.widget-state+json": {
        "62b6530ce02744e18b91fb4670ec562c": {
          "model_module": "@jupyter-widgets/controls",
          "model_name": "TextModel",
          "model_module_version": "1.5.0",
          "state": {
            "_dom_classes": [],
            "_model_module": "@jupyter-widgets/controls",
            "_model_module_version": "1.5.0",
            "_model_name": "TextModel",
            "_view_count": null,
            "_view_module": "@jupyter-widgets/controls",
            "_view_module_version": "1.5.0",
            "_view_name": "TextView",
            "continuous_update": true,
            "description": "Tu intento:",
            "description_tooltip": null,
            "disabled": true,
            "layout": "IPY_MODEL_956685f6d78842c781b57bbfbf349f31",
            "placeholder": "Ej: 1234",
            "style": "IPY_MODEL_35f121a4e058474ca8fc253e7c2b2ddc",
            "value": "2489"
          }
        },
        "956685f6d78842c781b57bbfbf349f31": {
          "model_module": "@jupyter-widgets/base",
          "model_name": "LayoutModel",
          "model_module_version": "1.2.0",
          "state": {
            "_model_module": "@jupyter-widgets/base",
            "_model_module_version": "1.2.0",
            "_model_name": "LayoutModel",
            "_view_count": null,
            "_view_module": "@jupyter-widgets/base",
            "_view_module_version": "1.2.0",
            "_view_name": "LayoutView",
            "align_content": null,
            "align_items": null,
            "align_self": null,
            "border": null,
            "bottom": null,
            "display": null,
            "flex": null,
            "flex_flow": null,
            "grid_area": null,
            "grid_auto_columns": null,
            "grid_auto_flow": null,
            "grid_auto_rows": null,
            "grid_column": null,
            "grid_gap": null,
            "grid_row": null,
            "grid_template_areas": null,
            "grid_template_columns": null,
            "grid_template_rows": null,
            "height": null,
            "justify_content": null,
            "justify_items": null,
            "left": null,
            "margin": null,
            "max_height": null,
            "max_width": null,
            "min_height": null,
            "min_width": null,
            "object_fit": null,
            "object_position": null,
            "order": null,
            "overflow": null,
            "overflow_x": null,
            "overflow_y": null,
            "padding": null,
            "right": null,
            "top": null,
            "visibility": null,
            "width": null
          }
        },
        "35f121a4e058474ca8fc253e7c2b2ddc": {
          "model_module": "@jupyter-widgets/controls",
          "model_name": "DescriptionStyleModel",
          "model_module_version": "1.5.0",
          "state": {
            "_model_module": "@jupyter-widgets/controls",
            "_model_module_version": "1.5.0",
            "_model_name": "DescriptionStyleModel",
            "_view_count": null,
            "_view_module": "@jupyter-widgets/base",
            "_view_module_version": "1.2.0",
            "_view_name": "StyleView",
            "description_width": ""
          }
        },
        "cfe882fcf57140248a6d5b52c4fb0d40": {
          "model_module": "@jupyter-widgets/controls",
          "model_name": "ButtonModel",
          "model_module_version": "1.5.0",
          "state": {
            "_dom_classes": [],
            "_model_module": "@jupyter-widgets/controls",
            "_model_module_version": "1.5.0",
            "_model_name": "ButtonModel",
            "_view_count": null,
            "_view_module": "@jupyter-widgets/controls",
            "_view_module_version": "1.5.0",
            "_view_name": "ButtonView",
            "button_style": "success",
            "description": "Probar",
            "disabled": true,
            "icon": "",
            "layout": "IPY_MODEL_c77d99dbd62849f49e20834112c5477b",
            "style": "IPY_MODEL_1cd153bae3164858b0f4376d6a8b0c3b",
            "tooltip": ""
          }
        },
        "c77d99dbd62849f49e20834112c5477b": {
          "model_module": "@jupyter-widgets/base",
          "model_name": "LayoutModel",
          "model_module_version": "1.2.0",
          "state": {
            "_model_module": "@jupyter-widgets/base",
            "_model_module_version": "1.2.0",
            "_model_name": "LayoutModel",
            "_view_count": null,
            "_view_module": "@jupyter-widgets/base",
            "_view_module_version": "1.2.0",
            "_view_name": "LayoutView",
            "align_content": null,
            "align_items": null,
            "align_self": null,
            "border": null,
            "bottom": null,
            "display": null,
            "flex": null,
            "flex_flow": null,
            "grid_area": null,
            "grid_auto_columns": null,
            "grid_auto_flow": null,
            "grid_auto_rows": null,
            "grid_column": null,
            "grid_gap": null,
            "grid_row": null,
            "grid_template_areas": null,
            "grid_template_columns": null,
            "grid_template_rows": null,
            "height": null,
            "justify_content": null,
            "justify_items": null,
            "left": null,
            "margin": null,
            "max_height": null,
            "max_width": null,
            "min_height": null,
            "min_width": null,
            "object_fit": null,
            "object_position": null,
            "order": null,
            "overflow": null,
            "overflow_x": null,
            "overflow_y": null,
            "padding": null,
            "right": null,
            "top": null,
            "visibility": null,
            "width": null
          }
        },
        "1cd153bae3164858b0f4376d6a8b0c3b": {
          "model_module": "@jupyter-widgets/controls",
          "model_name": "ButtonStyleModel",
          "model_module_version": "1.5.0",
          "state": {
            "_model_module": "@jupyter-widgets/controls",
            "_model_module_version": "1.5.0",
            "_model_name": "ButtonStyleModel",
            "_view_count": null,
            "_view_module": "@jupyter-widgets/base",
            "_view_module_version": "1.2.0",
            "_view_name": "StyleView",
            "button_color": null,
            "font_weight": ""
          }
        },
        "7879420230694d779e71bac4acb279e0": {
          "model_module": "@jupyter-widgets/output",
          "model_name": "OutputModel",
          "model_module_version": "1.0.0",
          "state": {
            "_dom_classes": [],
            "_model_module": "@jupyter-widgets/output",
            "_model_module_version": "1.0.0",
            "_model_name": "OutputModel",
            "_view_count": null,
            "_view_module": "@jupyter-widgets/output",
            "_view_module_version": "1.0.0",
            "_view_name": "OutputView",
            "layout": "IPY_MODEL_4da5a35122b7449db1a63190bff0e03f",
            "msg_id": "",
            "outputs": [
              {
                "output_type": "display_data",
                "data": {
                  "text/plain": "<IPython.core.display.HTML object>",
                  "text/html": "\n        <style>\n            .intento {\n                background: white;\n                color: black;\n                border: 1px solid #ccc;\n                border-radius: 8px;\n                padding: 8px;\n                margin: 6px 0;\n                font-family: monospace;\n                box-shadow: 2px 2px 5px rgba(0,0,0,0.1);\n            }\n            .correcto {\n                border: 2px solid green;\n                background: #eaffea;\n            }\n        </style>\n        <div>\n        <div class='intento'>🔢 1234 → <b>0</b> fijas, <b>2</b> picas</div><div class='intento'>🔢 5612 → <b>0</b> fijas, <b>1</b> picas</div><div class='intento'>🔢 7810 → <b>0</b> fijas, <b>1</b> picas</div><div class='intento'>🔢 7891 → <b>0</b> fijas, <b>2</b> picas</div><div class='intento'>🔢 7198 → <b>0</b> fijas, <b>2</b> picas</div><div class='intento'>🔢 2734 → <b>1</b> fijas, <b>1</b> picas</div><div class='intento'>🔢 2561 → <b>1</b> fijas, <b>0</b> picas</div><div class='intento'>🔢 2356 → <b>1</b> fijas, <b>0</b> picas</div><div class='intento'>🔢 2456 → <b>2</b> fijas, <b>0</b> picas</div><div class='intento'>🔢 2479 → <b>3</b> fijas, <b>0</b> picas</div><div class='intento'>🔢 2478 → <b>2</b> fijas, <b>1</b> picas</div><div class='intento correcto'>🔢 2489 → <b>4</b> fijas, <b>0</b> picas</div></div>"
                },
                "metadata": {}
              },
              {
                "output_type": "display_data",
                "data": {
                  "text/plain": "<IPython.core.display.HTML object>",
                  "text/html": "<h3 style='color:green;'>🎉 ¡Ganaste en 12 intentos! El número era 2489</h3>"
                },
                "metadata": {}
              },
              {
                "output_type": "display_data",
                "data": {
                  "text/plain": "Button(button_style='info', description='Jugar de nuevo', style=ButtonStyle())",
                  "application/vnd.jupyter.widget-view+json": {
                    "version_major": 2,
                    "version_minor": 0,
                    "model_id": "1250bfc21df442988b3bd15a97c99092"
                  }
                },
                "metadata": {}
              }
            ]
          }
        },
        "4da5a35122b7449db1a63190bff0e03f": {
          "model_module": "@jupyter-widgets/base",
          "model_name": "LayoutModel",
          "model_module_version": "1.2.0",
          "state": {
            "_model_module": "@jupyter-widgets/base",
            "_model_module_version": "1.2.0",
            "_model_name": "LayoutModel",
            "_view_count": null,
            "_view_module": "@jupyter-widgets/base",
            "_view_module_version": "1.2.0",
            "_view_name": "LayoutView",
            "align_content": null,
            "align_items": null,
            "align_self": null,
            "border": null,
            "bottom": null,
            "display": null,
            "flex": null,
            "flex_flow": null,
            "grid_area": null,
            "grid_auto_columns": null,
            "grid_auto_flow": null,
            "grid_auto_rows": null,
            "grid_column": null,
            "grid_gap": null,
            "grid_row": null,
            "grid_template_areas": null,
            "grid_template_columns": null,
            "grid_template_rows": null,
            "height": null,
            "justify_content": null,
            "justify_items": null,
            "left": null,
            "margin": null,
            "max_height": null,
            "max_width": null,
            "min_height": null,
            "min_width": null,
            "object_fit": null,
            "object_position": null,
            "order": null,
            "overflow": null,
            "overflow_x": null,
            "overflow_y": null,
            "padding": null,
            "right": null,
            "top": null,
            "visibility": null,
            "width": null
          }
        },
        "1250bfc21df442988b3bd15a97c99092": {
          "model_module": "@jupyter-widgets/controls",
          "model_name": "ButtonModel",
          "model_module_version": "1.5.0",
          "state": {
            "_dom_classes": [],
            "_model_module": "@jupyter-widgets/controls",
            "_model_module_version": "1.5.0",
            "_model_name": "ButtonModel",
            "_view_count": null,
            "_view_module": "@jupyter-widgets/controls",
            "_view_module_version": "1.5.0",
            "_view_name": "ButtonView",
            "button_style": "info",
            "description": "Jugar de nuevo",
            "disabled": false,
            "icon": "",
            "layout": "IPY_MODEL_993941ca6e114eedbdd2adbce7e0078b",
            "style": "IPY_MODEL_89bbb00bb93e48a0b841290de0096247",
            "tooltip": ""
          }
        },
        "993941ca6e114eedbdd2adbce7e0078b": {
          "model_module": "@jupyter-widgets/base",
          "model_name": "LayoutModel",
          "model_module_version": "1.2.0",
          "state": {
            "_model_module": "@jupyter-widgets/base",
            "_model_module_version": "1.2.0",
            "_model_name": "LayoutModel",
            "_view_count": null,
            "_view_module": "@jupyter-widgets/base",
            "_view_module_version": "1.2.0",
            "_view_name": "LayoutView",
            "align_content": null,
            "align_items": null,
            "align_self": null,
            "border": null,
            "bottom": null,
            "display": null,
            "flex": null,
            "flex_flow": null,
            "grid_area": null,
            "grid_auto_columns": null,
            "grid_auto_flow": null,
            "grid_auto_rows": null,
            "grid_column": null,
            "grid_gap": null,
            "grid_row": null,
            "grid_template_areas": null,
            "grid_template_columns": null,
            "grid_template_rows": null,
            "height": null,
            "justify_content": null,
            "justify_items": null,
            "left": null,
            "margin": null,
            "max_height": null,
            "max_width": null,
            "min_height": null,
            "min_width": null,
            "object_fit": null,
            "object_position": null,
            "order": null,
            "overflow": null,
            "overflow_x": null,
            "overflow_y": null,
            "padding": null,
            "right": null,
            "top": null,
            "visibility": null,
            "width": null
          }
        },
        "89bbb00bb93e48a0b841290de0096247": {
          "model_module": "@jupyter-widgets/controls",
          "model_name": "ButtonStyleModel",
          "model_module_version": "1.5.0",
          "state": {
            "_model_module": "@jupyter-widgets/controls",
            "_model_module_version": "1.5.0",
            "_model_name": "ButtonStyleModel",
            "_view_count": null,
            "_view_module": "@jupyter-widgets/base",
            "_view_module_version": "1.2.0",
            "_view_name": "StyleView",
            "button_color": null,
            "font_weight": ""
          }
        }
      }
    }
  },
  "cells": [
    {
      "cell_type": "markdown",
      "metadata": {
        "id": "view-in-github",
        "colab_type": "text"
      },
      "source": [
        "<a href=\"https://colab.research.google.com/github/Dannatinjaca/PROGCOM-A/blob/main/picasYfijas.ipynb\" target=\"_parent\"><img src=\"https://colab.research.google.com/assets/colab-badge.svg\" alt=\"Open In Colab\"/></a>"
      ]
    },
    {
      "cell_type": "code",
      "execution_count": 1,
      "metadata": {
        "id": "cbmFQ9QOdqkH",
        "colab": {
          "base_uri": "https://localhost:8080/",
          "height": 852,
          "referenced_widgets": [
            "62b6530ce02744e18b91fb4670ec562c",
            "956685f6d78842c781b57bbfbf349f31",
            "35f121a4e058474ca8fc253e7c2b2ddc",
            "cfe882fcf57140248a6d5b52c4fb0d40",
            "c77d99dbd62849f49e20834112c5477b",
            "1cd153bae3164858b0f4376d6a8b0c3b",
            "7879420230694d779e71bac4acb279e0",
            "4da5a35122b7449db1a63190bff0e03f",
            "1250bfc21df442988b3bd15a97c99092",
            "993941ca6e114eedbdd2adbce7e0078b",
            "89bbb00bb93e48a0b841290de0096247"
          ]
        },
        "outputId": "2b12b719-a067-4239-f1c9-69a99ea48ca2"
      },
      "outputs": [
        {
          "output_type": "display_data",
          "data": {
            "text/plain": [
              "<IPython.core.display.HTML object>"
            ],
            "text/html": [
              "<h2 style='color:darkblue;'>🎯 Juego Picas y Fijas</h2>"
            ]
          },
          "metadata": {}
        },
        {
          "output_type": "display_data",
          "data": {
            "text/plain": [
              "<IPython.core.display.HTML object>"
            ],
            "text/html": [
              "<img src='https://cdn-icons-png.flaticon.com/512/1055/1055646.png' style='max-height:150px;margin-bottom:10px;'>"
            ]
          },
          "metadata": {}
        },
        {
          "output_type": "display_data",
          "data": {
            "text/plain": [
              "Text(value='', description='Tu intento:', placeholder='Ej: 1234')"
            ],
            "application/vnd.jupyter.widget-view+json": {
              "version_major": 2,
              "version_minor": 0,
              "model_id": "62b6530ce02744e18b91fb4670ec562c"
            }
          },
          "metadata": {}
        },
        {
          "output_type": "display_data",
          "data": {
            "text/plain": [
              "Button(button_style='success', description='Probar', style=ButtonStyle())"
            ],
            "application/vnd.jupyter.widget-view+json": {
              "version_major": 2,
              "version_minor": 0,
              "model_id": "cfe882fcf57140248a6d5b52c4fb0d40"
            }
          },
          "metadata": {}
        },
        {
          "output_type": "display_data",
          "data": {
            "text/plain": [
              "Output()"
            ],
            "application/vnd.jupyter.widget-view+json": {
              "version_major": 2,
              "version_minor": 0,
              "model_id": "7879420230694d779e71bac4acb279e0"
            }
          },
          "metadata": {}
        }
      ],
      "source": [
        "from abc import ABC, abstractmethod\n",
        "from IPython.display import display, HTML, clear_output\n",
        "import ipywidgets as widgets\n",
        "import random\n",
        "\n",
        "class JuegoBase(ABC):\n",
        "    @abstractmethod\n",
        "    def iniciar_juego(self):\n",
        "        pass\n",
        "\n",
        "    @abstractmethod\n",
        "    def procesar_intento(self, intento):\n",
        "        pass\n",
        "\n",
        "class PicasYFijas(JuegoBase):\n",
        "    def __init__(self):\n",
        "        self.iniciar_juego()\n",
        "\n",
        "    def _generar_secreto(self):\n",
        "        digitos = list(\"0123456789\")\n",
        "        random.shuffle(digitos)\n",
        "        return \"\".join(digitos[:4])\n",
        "\n",
        "    def iniciar_juego(self):\n",
        "        self.secreto = self._generar_secreto()\n",
        "        self.intentos = 0\n",
        "        self.historial = []\n",
        "\n",
        "    def procesar_intento(self, intento):\n",
        "        self.intentos += 1\n",
        "        fijas = sum(s == i for s, i in zip(self.secreto, intento))\n",
        "        picas = sum(min(self.secreto.count(d), intento.count(d)) for d in set(intento)) - fijas\n",
        "        self.historial.append((intento, fijas, picas))\n",
        "        return fijas, picas\n",
        "\n",
        "    def juego_finalizado(self):\n",
        "        return any(f == 4 for _, f, _ in self.historial)\n",
        "\n",
        "    def obtener_historial(self):\n",
        "        return self.historial\n",
        "\n",
        "    def obtener_secreto(self):\n",
        "        return self.secreto\n",
        "\n",
        "class InterfazHTML:\n",
        "    def __init__(self, juego, imagen_url=None):\n",
        "        self.juego = juego\n",
        "        self.imagen_url = imagen_url\n",
        "        self._construir_widgets()\n",
        "\n",
        "    def _construir_widgets(self):\n",
        "        self.entrada = widgets.Text(placeholder='Ej: 1234', description='Tu intento:')\n",
        "        self.boton = widgets.Button(description='Probar', button_style='success')\n",
        "        self.reiniciar = widgets.Button(description='Jugar de nuevo', button_style='info')\n",
        "        self.salida = widgets.Output()\n",
        "        self.boton.on_click(self._al_hacer_click)\n",
        "        self.reiniciar.on_click(self._reiniciar_juego)\n",
        "\n",
        "    def _mostrar_historial(self):\n",
        "        historial = self.juego.obtener_historial()\n",
        "        html = \"\"\"\n",
        "        <style>\n",
        "            .intento {\n",
        "                background: white;\n",
        "                color: black;\n",
        "                border: 1px solid #ccc;\n",
        "                border-radius: 8px;\n",
        "                padding: 8px;\n",
        "                margin: 6px 0;\n",
        "                font-family: monospace;\n",
        "                box-shadow: 2px 2px 5px rgba(0,0,0,0.1);\n",
        "            }\n",
        "            .correcto {\n",
        "                border: 2px solid green;\n",
        "                background: #eaffea;\n",
        "            }\n",
        "        </style>\n",
        "        <div>\n",
        "        \"\"\"\n",
        "        for intento, fijas, picas in historial:\n",
        "            clase = \"intento correcto\" if fijas == 4 else \"intento\"\n",
        "            html += f\"<div class='{clase}'>🔢 {intento} → <b>{fijas}</b> fijas, <b>{picas}</b> picas</div>\"\n",
        "        html += \"</div>\"\n",
        "        return html\n",
        "\n",
        "    def _al_hacer_click(self, b):\n",
        "        intento = self.entrada.value.strip()\n",
        "        with self.salida:\n",
        "            clear_output()\n",
        "            if len(intento) != 4 or not intento.isdigit() or len(set(intento)) != 4:\n",
        "                display(HTML(\"<b style='color:red;'>❌ Entrada inválida. Usa 4 dígitos distintos.</b>\"))\n",
        "                return\n",
        "            f, p = self.juego.procesar_intento(intento)\n",
        "            display(HTML(self._mostrar_historial()))\n",
        "\n",
        "            if self.juego.juego_finalizado():\n",
        "                secreto = self.juego.obtener_secreto()\n",
        "                display(HTML(f\"<h3 style='color:green;'>🎉 ¡Ganaste en {self.juego.intentos} intentos! El número era {secreto}</h3>\"))\n",
        "                display(self.reiniciar)\n",
        "                self.boton.disabled = True\n",
        "                self.entrada.disabled = True\n",
        "\n",
        "    def _reiniciar_juego(self, b):\n",
        "        self.juego.iniciar_juego()\n",
        "        self._construir_widgets()\n",
        "        self.mostrar()\n",
        "\n",
        "    def mostrar(self):\n",
        "        with self.salida:\n",
        "            clear_output()\n",
        "        display(HTML(\"<h2 style='color:darkblue;'>🎯 Juego Picas y Fijas</h2>\"))\n",
        "        if self.imagen_url:\n",
        "            display(HTML(f\"<img src='{self.imagen_url}' style='max-height:150px;margin-bottom:10px;'>\"))\n",
        "        display(self.entrada, self.boton, self.salida)\n",
        "\n",
        "\n",
        "imagen_link = \"https://cdn-icons-png.flaticon.com/512/1055/1055646.png\"\n",
        "\n",
        "juego = PicasYFijas()\n",
        "interfaz = InterfazHTML(juego, imagen_url=imagen_link)\n",
        "interfaz.mostrar()\n"
      ]
    }
  ]
}