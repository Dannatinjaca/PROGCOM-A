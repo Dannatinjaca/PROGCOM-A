{
  "nbformat": 4,
  "nbformat_minor": 0,
  "metadata": {
    "colab": {
      "provenance": []
    },
    "kernelspec": {
      "name": "python3",
      "display_name": "Python 3"
    },
    "language_info": {
      "name": "python"
    }
  },
  "cells": [
    {
      "cell_type": "markdown",
      "source": [
        "##Switches\n",
        "son estructuras de selección que sirven para evaluar más de una condicion de verdad y ofrecer diferentes evaluaciones de verdad\n",
        "\n",
        "\n",
        "\n",
        "```\n",
        "if(condición):\n",
        " Aqui entra si la condición es verdadera\n",
        "elif(condición2):\n",
        " Aquí entra si la condición 2 es verdadera\n",
        "elif(condición3):\n",
        " Aquí entra si la condición 3 es verdadera\n",
        "elif(condiciónn):\n",
        " Aquí entra si la condicion n es verdadera\n",
        "else: Aquí va si ninguna de las condiciónes es verdadera\n",
        "```\n",
        "```\n",
        "Versión 2(nueva)\n",
        "Match (variable):\n",
        " case(valor):\n",
        "    Aquí pasa algo sí\n",
        "    variable=valor\n",
        " case(valor2):\n",
        "   Aquí pasa algo sí\n",
        "    variable=valor2\n",
        " case (valor3):\n",
        "   Aquí pasa algo sí\n",
        "    variable=valor3\n",
        " case (valorn):\n",
        "  Aquí pasa algo sí\n",
        "   variable=valorn\n",
        " case_: Ninguno de los anteriores\n",
        "```\n",
        "\n",
        "\n"
      ],
      "metadata": {
        "id": "YOMjfy0VGUtj"
      }
    },
    {
      "cell_type": "code",
      "source": [
        "opc=input(\"Elige un sabor de helado;)\")"
      ],
      "metadata": {
        "id": "p5vPQ4ypH2Cr"
      },
      "execution_count": null,
      "outputs": []
    },
    {
      "cell_type": "code",
      "source": [
        "if opc==\"oreo\": print(f\"usted eligió {opc} y debe pagar $4500\")\n",
        "elif opc==\"chocolate\": print(f\"usted eligió {opc} y debe pagar $3000\")\n",
        "elif opc==\"chicle\": print(f\"usted eligió {opc} y debe pagar $3500\")\n",
        "elif opc==\"chicle\": print(f\"usted eligió {opc} y debe pagar $2000\")\n",
        "else: print(f\"No tenemos ese sabor:(.\")"
      ],
      "metadata": {
        "id": "JJv24xMpIPTV"
      },
      "execution_count": null,
      "outputs": []
    },
    {
      "cell_type": "code",
      "source": [
        "match opc:\n",
        "  case \"oreo\":\n",
        "     print(f\"usted eligió {opc} y debe pagar $4500\")\n",
        " case \"chocolate\":\n",
        "   print(f\"usted eligió {opc} y debe pagar $3000\")\n",
        " case \"chicle\":\n",
        "  print(f\"usted eligió {opc} y debe pagar $3500\")\n",
        " case\"chicle\":\n",
        "   print(f\"usted eligió {opc} y debe pagar $2000\")\n",
        " case _: print(f\"No tenemos ese sabor:(.\")\n"
      ],
      "metadata": {
        "id": "4ct4xlA4K6Z2"
      },
      "execution_count": null,
      "outputs": []
    },
    {
      "cell_type": "markdown",
      "source": [
        "Tarea:"
      ],
      "metadata": {
        "id": "vyjDwN_PGr5a"
      }
    },
    {
      "cell_type": "markdown",
      "source": [
        "IF(CONDICION):"
      ],
      "metadata": {
        "id": "OWT8XxcyJ7dn"
      }
    },
    {
      "cell_type": "code",
      "source": [
        "6.\n",
        "def determinar_paridad(numero):\n",
        "    if numero % 2 == 0:\n",
        "        print(f\"El número {numero} es par.\")\n",
        "    elif numero % 2 == 1:\n",
        "        print(f\"El número {numero} es impar.\")\n",
        "    else:\n",
        "        print(\"Entrada no válida.\")\n",
        "\n",
        "# Solicitar al usuario un número\n",
        "try:\n",
        "    num = int(input(\"Ingrese un número entero: \"))\n",
        "    determinar_paridad(num)\n",
        "except ValueError:\n",
        "    print(\"Por favor, ingrese un número entero válido.\")\n"
      ],
      "metadata": {
        "colab": {
          "base_uri": "https://localhost:8080/"
        },
        "id": "Aam61RcuIRXF",
        "outputId": "6e04e8fc-48e8-442b-bcbe-b497db674ee2"
      },
      "execution_count": null,
      "outputs": [
        {
          "output_type": "stream",
          "name": "stdout",
          "text": [
            "Ingrese un número entero: 3\n",
            "El número 3 es impar.\n"
          ]
        }
      ]
    },
    {
      "cell_type": "code",
      "source": [
        "7.\n",
        "def es_bisiesto(anio):\n",
        "    if (anio % 4 == 0 and anio % 100 != 0) or (anio % 400 == 0):\n",
        "        print(f\"El año {anio} es bisiesto.\")\n",
        "    else:\n",
        "        print(f\"El año {anio} no es bisiesto.\")\n",
        "\n",
        "# Solicitar al usuario un año\n",
        "try:\n",
        "    anio = int(input(\"Ingrese un año: \"))\n",
        "    es_bisiesto(anio)\n",
        "except ValueError:\n",
        "    print(\"Por favor, ingrese un año válido.\")\n"
      ],
      "metadata": {
        "colab": {
          "base_uri": "https://localhost:8080/"
        },
        "id": "ipeXJXgEIuUy",
        "outputId": "7e23c9d2-a9ca-4297-c5d6-179a54975e3f"
      },
      "execution_count": null,
      "outputs": [
        {
          "output_type": "stream",
          "name": "stdout",
          "text": [
            "Ingrese un año: 1875\n",
            "El año 1875 no es bisiesto.\n"
          ]
        }
      ]
    },
    {
      "cell_type": "code",
      "source": [
        "8.\n",
        "def verificar_tercera_edad(edad):\n",
        "    if edad >= 70:\n",
        "        return True\n",
        "    else:\n",
        "        return False\n",
        "\n",
        "# Solicitar nombre y edad del usuario\n",
        "nombre = input(\"¿Cuál es tu nombre? \")\n",
        "edad = int(input(\"¿Cuántos años tienes? \"))\n",
        "\n",
        "# Verificar si pertenece a la tercera edad\n",
        "if verificar_tercera_edad(edad):\n",
        "    print(f\"{nombre}, te damos prioridad en la fila debido a tu edad.\")\n",
        "else:\n",
        "    print(f\"{nombre}, no tienes prioridad en la fila.\")\n"
      ],
      "metadata": {
        "colab": {
          "base_uri": "https://localhost:8080/"
        },
        "id": "KkV6FtGDI-nb",
        "outputId": "b45525ae-8fce-4a96-b71b-f373a357ae1a"
      },
      "execution_count": null,
      "outputs": [
        {
          "output_type": "stream",
          "name": "stdout",
          "text": [
            "¿Cuál es tu nombre? luisa\n",
            "¿Cuántos años tienes? 88\n",
            "luisa, te damos prioridad en la fila debido a tu edad.\n"
          ]
        }
      ]
    },
    {
      "cell_type": "code",
      "source": [
        "9.\n",
        "def obtener_mayor(num1, num2, num3):\n",
        "    if num1 >= num2 and num1 >= num3:\n",
        "        return num1\n",
        "    elif num2 >= num1 and num2 >= num3:\n",
        "        return num2\n",
        "    else:\n",
        "        return num3\n",
        "\n",
        "# Solicitar los tres números al usuario\n",
        "num1 = float(input(\"Introduce el primer número: \"))\n",
        "num2 = float(input(\"Introduce el segundo número: \"))\n",
        "num3 = float(input(\"Introduce el tercer número: \"))\n",
        "\n",
        "# Obtener el número mayor\n",
        "mayor = obtener_mayor(num1, num2, num3)\n",
        "\n",
        "# Mostrar el número mayor\n",
        "print(f\"El número mayor es: {mayor}\")\n"
      ],
      "metadata": {
        "colab": {
          "base_uri": "https://localhost:8080/"
        },
        "id": "mcykD5yEJg_m",
        "outputId": "188a7426-f70e-47b6-963a-e1696948966f"
      },
      "execution_count": null,
      "outputs": [
        {
          "output_type": "stream",
          "name": "stdout",
          "text": [
            "Introduce el primer número: 12\n",
            "Introduce el segundo número: 34\n",
            "Introduce el tercer número: 5\n",
            "El número mayor es: 34.0\n"
          ]
        }
      ]
    },
    {
      "cell_type": "code",
      "source": [
        "10.\n",
        "def tipo_triangulo(lado1, lado2, lado3):\n",
        "    if lado1 == lado2 == lado3:\n",
        "        return \"Equilátero\"\n",
        "    elif lado1 == lado2 or lado2 == lado3 or lado1 == lado3:\n",
        "        return \"Isósceles\"\n",
        "    else:\n",
        "        return \"Escaleno\"\n",
        "\n",
        "# Solicitar los tres lados del triángulo al usuario\n",
        "lado1 = float(input(\"Introduce el primer lado del triángulo: \"))\n",
        "lado2 = float(input(\"Introduce el segundo lado del triángulo: \"))\n",
        "lado3 = float(input(\"Introduce el tercer lado del triángulo: \"))\n",
        "\n",
        "# Determinar el tipo de triángulo\n",
        "tipo = tipo_triangulo(lado1, lado2, lado3)\n",
        "\n",
        "# Mostrar el resultado\n",
        "print(f\"El triángulo es {tipo}.\")\n"
      ],
      "metadata": {
        "colab": {
          "base_uri": "https://localhost:8080/"
        },
        "id": "Cc2jbp1pJo5J",
        "outputId": "0f0fa1fa-4ed9-43b5-aad1-62b28fea21b3"
      },
      "execution_count": null,
      "outputs": [
        {
          "output_type": "stream",
          "name": "stdout",
          "text": [
            "Introduce el primer lado del triángulo: 23\n",
            "Introduce el segundo lado del triángulo: 12\n",
            "Introduce el tercer lado del triángulo: 23\n",
            "El triángulo es Isósceles.\n"
          ]
        }
      ]
    },
    {
      "cell_type": "markdown",
      "source": [
        "Match (variable):"
      ],
      "metadata": {
        "id": "gOsPd5n_OWm-"
      }
    },
    {
      "cell_type": "code",
      "source": [
        "6.\n",
        "def determinar_par_impar(numero):\n",
        "    match numero % 2:\n",
        "        case 0:\n",
        "            print(\"El número es par.\")\n",
        "        case 1:\n",
        "            print(\"El número es impar.\")\n",
        "        case _:\n",
        "            print(\"Entrada no válida.\")\n",
        "\n",
        "numero = int(input(\"Ingrese un número: \"))\n",
        "determinar_par_impar(numero)\n",
        "\n"
      ],
      "metadata": {
        "colab": {
          "base_uri": "https://localhost:8080/"
        },
        "id": "j7-qAsoyOY9R",
        "outputId": "a2d38ab8-2d46-42ea-bada-a203ec56f5dd"
      },
      "execution_count": null,
      "outputs": [
        {
          "output_type": "stream",
          "name": "stdout",
          "text": [
            "Ingrese un número: 3\n",
            "El número es impar.\n"
          ]
        }
      ]
    },
    {
      "cell_type": "code",
      "source": [
        "7.\n",
        "def es_bisiesto(ano):\n",
        "    match (ano % 4 == 0, ano % 100 != 0, ano % 400 == 0):\n",
        "        case (True, True, _) | (_, _, True):\n",
        "            print(\"El año es bisiesto.\")\n",
        "        case _:\n",
        "            print(\"El año no es bisiesto.\")\n",
        "\n",
        "ano = int(input(\"Ingrese un año: \"))\n",
        "es_bisiesto(ano)\n"
      ],
      "metadata": {
        "colab": {
          "base_uri": "https://localhost:8080/"
        },
        "id": "w5K-SQq-Pkff",
        "outputId": "3ccaf506-d814-4f9a-c671-b7a3d7121b0c"
      },
      "execution_count": null,
      "outputs": [
        {
          "output_type": "stream",
          "name": "stdout",
          "text": [
            "Ingrese un año: 1982\n",
            "El año no es bisiesto.\n"
          ]
        }
      ]
    },
    {
      "cell_type": "code",
      "source": [
        "8.\n",
        "def verificar_tercera_edad():\n",
        "    nombre = input(\"Ingrese su nombre: \")\n",
        "    edad = int(input(\"Ingrese su edad: \"))\n",
        "\n",
        "    match edad >= 70:\n",
        "        case True:\n",
        "            print(f\"{nombre}, usted pertenece a la tercera edad y tiene prioridad en la fila.\")\n",
        "        case False:\n",
        "            print(f\"{nombre}, usted no pertenece a la tercera edad.\")\n",
        "\n",
        "verificar_tercera_edad()\n"
      ],
      "metadata": {
        "colab": {
          "base_uri": "https://localhost:8080/"
        },
        "id": "6GjN_lCVQLQA",
        "outputId": "257fc2dd-f981-4dcb-8f86-831003cba831"
      },
      "execution_count": null,
      "outputs": [
        {
          "output_type": "stream",
          "name": "stdout",
          "text": [
            "Ingrese su nombre: luisa \n",
            "Ingrese su edad: 33\n",
            "luisa , usted no pertenece a la tercera edad.\n"
          ]
        }
      ]
    },
    {
      "cell_type": "code",
      "source": [
        "9.\n",
        "def encontrar_mayor():\n",
        "    num1 = int(input(\"Ingrese el primer número: \"))\n",
        "    num2 = int(input(\"Ingrese el segundo número: \"))\n",
        "    num3 = int(input(\"Ingrese el tercer número: \"))\n",
        "\n",
        "    match (num1 >= num2, num1 >= num3, num2 >= num3):\n",
        "        case (True, True, _):\n",
        "            print(f\"El mayor es: {num1}\")\n",
        "        case (False, _, True):\n",
        "            print(f\"El mayor es: {num2}\")\n",
        "        case _:\n",
        "            print(f\"El mayor es: {num3}\")\n",
        "\n",
        "encontrar_mayor()\n"
      ],
      "metadata": {
        "colab": {
          "base_uri": "https://localhost:8080/"
        },
        "id": "0NUkqQnWQRQm",
        "outputId": "66b40c69-1e71-4fbf-82e3-37fd419c2d0a"
      },
      "execution_count": null,
      "outputs": [
        {
          "output_type": "stream",
          "name": "stdout",
          "text": [
            "Ingrese el primer número: 12\n",
            "Ingrese el segundo número: 22\n",
            "Ingrese el tercer número: 14\n",
            "El mayor es: 22\n"
          ]
        }
      ]
    },
    {
      "cell_type": "code",
      "source": [
        "10.\n",
        "def tipo_triangulo():\n",
        "    lado1 = int(input(\"Ingrese el primer lado del triángulo: \"))\n",
        "    lado2 = int(input(\"Ingrese el segundo lado del triángulo: \"))\n",
        "    lado3 = int(input(\"Ingrese el tercer lado del triángulo: \"))\n",
        "\n",
        "    match (lado1 == lado2, lado1 == lado3, lado2 == lado3):\n",
        "        case (True, True, True):\n",
        "            print(\"El triángulo es equilátero.\")\n",
        "        case (True, False, False) | (False, True, False) | (False, False, True):\n",
        "            print(\"El triángulo es isósceles.\")\n",
        "        case _:\n",
        "            print(\"El triángulo es escaleno.\")\n",
        "\n",
        "tipo_triangulo()\n"
      ],
      "metadata": {
        "colab": {
          "base_uri": "https://localhost:8080/"
        },
        "id": "RLPW8_C_Qj9r",
        "outputId": "ef86a8ba-a97d-400b-b434-7396887d1e3e"
      },
      "execution_count": null,
      "outputs": [
        {
          "output_type": "stream",
          "name": "stdout",
          "text": [
            "Ingrese el primer lado del triángulo: 12\n",
            "Ingrese el segundo lado del triángulo: 2\n",
            "Ingrese el tercer lado del triángulo: 3\n",
            "El triángulo es escaleno.\n"
          ]
        }
      ]
    }
  ]
}