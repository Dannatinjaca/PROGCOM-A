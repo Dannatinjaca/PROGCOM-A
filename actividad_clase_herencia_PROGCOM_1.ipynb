{
  "nbformat": 4,
  "nbformat_minor": 0,
  "metadata": {
    "colab": {
      "provenance": [],
      "authorship_tag": "ABX9TyPGC9rVQ3VxSjYMiWMXJ3p6",
      "include_colab_link": true
    },
    "kernelspec": {
      "name": "python3",
      "display_name": "Python 3"
    },
    "language_info": {
      "name": "python"
    }
  },
  "cells": [
    {
      "cell_type": "markdown",
      "metadata": {
        "id": "view-in-github",
        "colab_type": "text"
      },
      "source": [
        "<a href=\"https://colab.research.google.com/github/Dannatinjaca/PROGCOM-A/blob/main/actividad_clase_herencia_PROGCOM_1.ipynb\" target=\"_parent\"><img src=\"https://colab.research.google.com/assets/colab-badge.svg\" alt=\"Open In Colab\"/></a>"
      ]
    },
    {
      "cell_type": "code",
      "source": [
        "import math\n",
        "\n",
        "class Forma:\n",
        "    def __init__(self, color):\n",
        "        self.color = color\n",
        "\n",
        "    def area(self):\n",
        "        return 0\n",
        "\n",
        "    def describir(self):\n",
        "        print(f\"Esta forma es de color {self.color}\")\n",
        "\n",
        "class Rectangulo(Forma):\n",
        "    def __init__(self, color, base, altura):\n",
        "        super().__init__(color)\n",
        "        self.base = base\n",
        "        self.altura = altura\n",
        "\n",
        "    def area(self):\n",
        "        return self.base * self.altura\n",
        "\n",
        "    def calcular_perimetro(self):\n",
        "        return 2 * (self.base + self.altura)\n",
        "\n",
        "class Circulo(Forma):\n",
        "    def __init__(self, color, radio):\n",
        "        super().__init__(color)\n",
        "        self.radio = radio\n",
        "\n",
        "    def area(self):\n",
        "        return math.pi * self.radio ** 2\n",
        "\n",
        "# Crear instancias\n",
        "mi_rectangulo = Rectangulo(\"Morado\", 10, 8)\n",
        "mi_circulo = Circulo(\"Rojo\", 9)\n",
        "\n",
        "# Usar métodos\n",
        "mi_rectangulo.describir()\n",
        "print(f\"El área del rectángulo es {mi_rectangulo.area()}\")\n",
        "print(f\"El perímetro del rectángulo es {mi_rectangulo.calcular_perimetro()}\")\n",
        "\n",
        "mi_circulo.describir()-----+++-\n",
        "print(f\"El área del círculo es {mi_circulo.area()}\")\n"
      ],
      "metadata": {
        "colab": {
          "base_uri": "https://localhost:8080/"
        },
        "id": "fLOFxD4joJjd",
        "outputId": "21f1ed9b-4e80-45f3-8e0d-33fd05351bab"
      },
      "execution_count": 5,
      "outputs": [
        {
          "output_type": "stream",
          "name": "stdout",
          "text": [
            "Esta forma es de color Morado\n",
            "El área del rectángulo es 80\n",
            "El perímetro del rectángulo es 36\n",
            "Esta forma es de color Rojo\n",
            "El área del círculo es 254.46900494077323\n"
          ]
        }
      ]
    }
  ]
}