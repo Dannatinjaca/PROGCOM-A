{
  "nbformat": 4,
  "nbformat_minor": 0,
  "metadata": {
    "colab": {
      "provenance": [],
      "authorship_tag": "ABX9TyOU0e9SCkAKldPvd/8URz9S",
      "include_colab_link": true
    },
    "kernelspec": {
      "name": "python3",
      "display_name": "Python 3"
    },
    "language_info": {
      "name": "python"
    }
  },
  "cells": [
    {
      "cell_type": "markdown",
      "metadata": {
        "id": "view-in-github",
        "colab_type": "text"
      },
      "source": [
        "<a href=\"https://colab.research.google.com/github/Dannatinjaca/PROGCOM-A/blob/main/chems_quest_six_CQ6(5000k)_Danna_Tinjac%C3%A1.ipynb\" target=\"_parent\"><img src=\"https://colab.research.google.com/assets/colab-badge.svg\" alt=\"Open In Colab\"/></a>"
      ]
    },
    {
      "cell_type": "markdown",
      "source": [
        "##CHEMS QUEST SIX\n",
        "CQ6 (5000k)\n",
        "#Que significan estas palabras? Ofrezca\n",
        "una definición y un ejemplo"
      ],
      "metadata": {
        "id": "3BPxkwRw8aBT"
      }
    },
    {
      "cell_type": "markdown",
      "source": [
        "1.**FALSE:**\n",
        "Representa el valor booleano falso en Python. Se utiliza en expresiones lógicas y estructuras de control para indicar que una condición no se cumple. En términos simples, False significa \"esto no es verdadero\".\n",
        "\n",
        "#ejemplo:\n",
        "```\n",
        "es_mayor = 5 > 10  # Esto es falso porque 5 no es mayor que 10\n",
        "print(es_mayor)  # Muestra: False\n",
        "```\n",
        "\n"
      ],
      "metadata": {
        "id": "TEyTe06Z8nwO"
      }
    },
    {
      "cell_type": "markdown",
      "source": [
        "2.**NONE:**\n",
        "Es un valor especial en Python que indica la ausencia de un valor o que una variable aún no tiene un dato asignado\n",
        "#ejemplo:\n",
        "```\n",
        "resultado = None  # No tiene valor\n",
        "print(resultado)  # Salida: None\n",
        "\n",
        "```\n",
        "\n"
      ],
      "metadata": {
        "id": "1hJxv7pR9SYQ"
      }
    },
    {
      "cell_type": "markdown",
      "source": [
        "3.**TRUE:**\n",
        "Representa el valor booleano verdadero. Se usa en estructuras condicionales y comparaciones cuando una condición se cumple.\n",
        "#ejemplo:\n",
        "\n",
        "\n",
        "```\n",
        "es_mayor = 20 > 18  # 20 sí es mayor que 18, por lo que es True\n",
        "print(es_mayor)  # Salida: True\n",
        "\n",
        "```\n",
        "\n"
      ],
      "metadata": {
        "id": "vQlSJXAI9yNw"
      }
    },
    {
      "cell_type": "markdown",
      "source": [
        "4.**AND:**\n",
        "Es un operador lógico que devuelve True si ambas condiciones son verdaderas.\n",
        "#ejemplo:\n",
        "\n",
        "```\n",
        "edad = 25\n",
        "tiene_dni = True\n",
        "\n",
        "if edad >= 18 and tiene_dni:\n",
        "    print(\"Puedes votar\")  # Ambas condiciones son True\n",
        "\n",
        "```\n",
        "\n"
      ],
      "metadata": {
        "id": "5QUMJbxI99tT"
      }
    },
    {
      "cell_type": "markdown",
      "source": [
        "5.**AS:**\n",
        "Se usa para dar un alias a módulos o funciones importadas.\n",
        "#ejemplo:\n",
        "```\n",
        "import math as m  \n",
        "print(m.sqrt(25))  # Salida: 5.0\n",
        "```\n",
        "\n"
      ],
      "metadata": {
        "id": "W6oWuIpc-Sb7"
      }
    },
    {
      "cell_type": "markdown",
      "source": [
        "6.**ASSERT:**\n",
        "Se usa para comprobar si una condición es verdadera; si no lo es, genera un error.\n",
        "#ejemplo:\n",
        "```\n",
        "x = 10\n",
        "assert x > 5  # No ocurre error porque x es mayor que 5\n",
        "assert x < 5  # Ocurre error porque x no es menor que 5\n",
        "\n",
        "```\n",
        "\n",
        "\n"
      ],
      "metadata": {
        "id": "634cM03c-fG5"
      }
    },
    {
      "cell_type": "markdown",
      "source": [
        "7.**BREAK:**\n",
        "Sirve para salir de un bucle antes de que termine normalmente.\n",
        "#ejemplo:\n",
        "```\n",
        "for i in range(5):\n",
        "    if i == 3:\n",
        "        break\n",
        "    print(i)  # Se detiene en 3\n",
        "\n",
        "```\n",
        "\n"
      ],
      "metadata": {
        "id": "GZtIopn7-ysA"
      }
    },
    {
      "cell_type": "markdown",
      "source": [
        "8.**CLASS:**\n",
        "Se usa para definir una clase, que es una estructura para crear objetos con atributos y métodos.\n",
        "#ejemplo:\n",
        "```\n",
        "class Persona:\n",
        "    def __init__(self, nombre):\n",
        "        self.nombre = nombre\n",
        "\n",
        "p = Persona(\"Ana\")\n",
        "print(p.nombre)  # Salida: Ana\n",
        "\n",
        "```\n",
        "\n"
      ],
      "metadata": {
        "id": "dg8ezZ1V_DCY"
      }
    },
    {
      "cell_type": "markdown",
      "source": [
        "9.**CONTINUE:**\n",
        "Hace que el bucle pase a la siguiente iteración sin ejecutar el código restante.\n",
        "#ejemplo:\n",
        "```\n",
        "for i in range(5):\n",
        "    if i == 2:\n",
        "        continue\n",
        "    print(i)  # Salta el 2\n",
        "\n",
        "```\n",
        "\n"
      ],
      "metadata": {
        "id": "jDcF2T87_OqQ"
      }
    },
    {
      "cell_type": "markdown",
      "source": [
        "10.**DEF:**\n",
        "Se usa para definir una función en Python.\n",
        "#ejemplo:\n",
        "```\n",
        "def saludar():\n",
        "    print(\"Hola\")\n",
        "\n",
        "saludar()  # Salida: Hola\n",
        "```\n",
        "\n"
      ],
      "metadata": {
        "id": "hPV5ov17_Zit"
      }
    },
    {
      "cell_type": "markdown",
      "source": [
        "11.**DEL:**\n",
        "Elimina una variable, objeto o un elemento de una lista.\n",
        "#ejemplo:\n",
        "```\n",
        "x = 10\n",
        "del x  # Borra la variable x\n",
        "\n",
        "```\n",
        "\n"
      ],
      "metadata": {
        "id": "sIPzk6UO_mJy"
      }
    },
    {
      "cell_type": "markdown",
      "source": [
        "12.**ELIF:**\n",
        "Sirve para agregar una condición adicional en un bloque if.\n",
        "#ejemplo:\n",
        "```\n",
        "edad = 16\n",
        "if edad >= 18:\n",
        "    print(\"Adulto\")\n",
        "elif edad >= 13:\n",
        "    print(\"Adolescente\")  # Se ejecuta este caso\n",
        "\n",
        "```\n",
        "\n"
      ],
      "metadata": {
        "id": "IKH7I-I7_vL9"
      }
    },
    {
      "cell_type": "markdown",
      "source": [
        "13.**ELSE:**\n",
        "Define qué hacer cuando las condiciones anteriores no se cumplen.\n",
        "#ejemplo:\n",
        "```\n",
        "edad = 10\n",
        "if edad >= 18:\n",
        "    print(\"Adulto\")\n",
        "else:\n",
        "    print(\"Menor de edad\")  # Se ejecuta este caso\n",
        "\n",
        "```\n",
        "\n"
      ],
      "metadata": {
        "id": "17YJigoD_9zV"
      }
    },
    {
      "cell_type": "markdown",
      "source": [
        "14.**EXCEPT:**\n",
        "Se usa en manejo de errores para capturar excepciones.\n",
        "#ejemplo:\n",
        "```\n",
        "try:\n",
        "    x = 1 / 0\n",
        "except ZeroDivisionError:\n",
        "    print(\"No se puede dividir por cero\")\n",
        "```\n",
        "\n"
      ],
      "metadata": {
        "id": "8MKzU2tIAGt_"
      }
    },
    {
      "cell_type": "markdown",
      "source": [
        "15.**FINNALY:**\n",
        "Se usa en manejo de excepciones para ejecutar un bloque de código siempre, ocurra o no un error.\n",
        "#ejemplo:\n",
        "```\n",
        "try:\n",
        "    x = 1 / 0\n",
        "except ZeroDivisionError:\n",
        "    print(\"Error\")\n",
        "finally:\n",
        "    print(\"Este mensaje siempre se muestra\")\n",
        "\n",
        "```\n",
        "\n"
      ],
      "metadata": {
        "id": "kCsuH1PTAZzb"
      }
    },
    {
      "cell_type": "markdown",
      "source": [
        "16.**FOR:**\n",
        "Es un bucle que se usa para recorrer elementos de una secuencia.\n",
        "#ejemplo:\n",
        "```\n",
        "for i in range(3):\n",
        "    print(i)  # Imprime 0, 1, 2\n",
        "\n",
        "```\n",
        "\n"
      ],
      "metadata": {
        "id": "2Uu64eXQAo4j"
      }
    },
    {
      "cell_type": "markdown",
      "source": [
        "17.**FROM:**\n",
        "Se usa para importar partes específicas de un módulo.\n",
        "#ejemplo:\n",
        "```\n",
        "from math import sqrt\n",
        "print(sqrt(16))  # Salida: 4.0\n",
        "\n",
        "```\n",
        "\n"
      ],
      "metadata": {
        "id": "aCSmS-NwAzeg"
      }
    },
    {
      "cell_type": "markdown",
      "source": [
        "18.**GLOBAL:**\n",
        "Permite modificar una variable global dentro de una función.\n",
        "#ejemplo:\n",
        "```\n",
        "x = 10\n",
        "\n",
        "def modificar():\n",
        "    global x\n",
        "    x = 20\n",
        "\n",
        "modificar()\n",
        "print(x)  # Salida: 20\n",
        "\n",
        "```\n",
        "\n"
      ],
      "metadata": {
        "id": "x_YRD5VyA9Dt"
      }
    },
    {
      "cell_type": "markdown",
      "source": [
        "19.**IF:**\n",
        "Evalúa una condición y ejecuta el código si es verdadera.\n",
        "#ejemplo;\n",
        "```\n",
        "edad = 20\n",
        "if edad >= 18:\n",
        "    print(\"Mayor de edad\")\n",
        "\n",
        "```\n",
        "\n"
      ],
      "metadata": {
        "id": "DD8pwuYtBLK-"
      }
    },
    {
      "cell_type": "markdown",
      "source": [
        "20.**IMPORT:**\n",
        "Se usa para importar módulos en Python.\n",
        "#ejemplo:\n",
        "```\n",
        "import random\n",
        "print(random.randint(1, 10))  # Número aleatorio entre 1 y 10\n",
        "\n",
        "```\n",
        "\n"
      ],
      "metadata": {
        "id": "5GvFZ4rhBTWL"
      }
    },
    {
      "cell_type": "markdown",
      "source": [
        "21.**IN:**\n",
        "Se usa para comprobar si un valor está en una secuencia.\n",
        "#ejemplo:\n",
        "```\n",
        "lista = [1, 2, 3]\n",
        "print(2 in lista)  # Salida: True\n",
        "\n",
        "```\n",
        "\n"
      ],
      "metadata": {
        "id": "XGgeam8IBcUe"
      }
    },
    {
      "cell_type": "markdown",
      "source": [
        "22.**IS:**\n",
        "Compara si dos variables apuntan al mismo objeto en memoria.\n",
        "#ejemplo:\n",
        "```\n",
        "a = [1, 2, 3]\n",
        "b = a\n",
        "print(a is b)  # Salida: True\n",
        "\n",
        "```\n",
        "\n"
      ],
      "metadata": {
        "id": "fOPs4AqIBnF0"
      }
    },
    {
      "cell_type": "markdown",
      "source": [
        "23.**LAMBDA:**\n",
        "Crea funciones anónimas en una sola línea.\n",
        "#ejemplo:\n",
        "```\n",
        "doble = lambda x: x * 2\n",
        "print(doble(5))  # Salida: 10\n",
        "\n",
        "```\n",
        "\n"
      ],
      "metadata": {
        "id": "xkZ7uMMzB97w"
      }
    },
    {
      "cell_type": "markdown",
      "source": [
        "24.**NONLOCAL:**\n",
        "Permite modificar una variable de un ámbito superior dentro de una función anidada.\n",
        "#ejemplo:\n",
        "```\n",
        "def externa():\n",
        "    x = 5\n",
        "    def interna():\n",
        "        nonlocal x\n",
        "        x += 1\n",
        "    interna()\n",
        "    print(x)  # Salida: 6\n",
        "\n",
        "```\n",
        "\n"
      ],
      "metadata": {
        "id": "QTn0-RLSCPjo"
      }
    },
    {
      "cell_type": "markdown",
      "source": [
        "25.**NOT:**\n",
        "Niega una expresión lógica.\n",
        "#ejemplo:\n",
        "```\n",
        "llueve = False\n",
        "print(not llueve)  # Salida: True\n",
        "\n",
        "```\n",
        "\n"
      ],
      "metadata": {
        "id": "zPH2MZaJCd36"
      }
    },
    {
      "cell_type": "markdown",
      "source": [
        "26.**OR:**\n",
        "Devuelve True si al menos una condición es verdadera.\n",
        "#ejemplo:\n",
        "```\n",
        "edad = 16\n",
        "tiene_permiso = True\n",
        "if edad >= 18 or tiene_permiso:\n",
        "    print(\"Puedes entrar\")  # Se ejecuta porque tiene_permiso es True\n",
        "\n",
        "```\n",
        "\n"
      ],
      "metadata": {
        "id": "mVlyxbqCCogZ"
      }
    },
    {
      "cell_type": "markdown",
      "source": [
        "27.**PASS:**\n",
        "Se usa como marcador de posición en código.\n",
        "#ejemplo:\n",
        "```\n",
        "def funcion():\n",
        "    pass  # No hace nada, pero evita error de sintaxis\n",
        "\n",
        "```\n",
        "\n"
      ],
      "metadata": {
        "id": "OTpxxCEVC0RV"
      }
    },
    {
      "cell_type": "markdown",
      "source": [
        "28.**RAISE:**\n",
        "Genera un error de manera intencional.\n",
        "#ejemplo:\n",
        "```\n",
        "raise ValueError(\"Ocurrió un error\")\n",
        "\n",
        "```\n",
        "\n"
      ],
      "metadata": {
        "id": "iumDbgJZDA7K"
      }
    },
    {
      "cell_type": "markdown",
      "source": [
        "29.**RETURN:**\n",
        "Devuelve un valor en una función.\n",
        "#ejemplo:\n",
        "```\n",
        "def suma(a, b):\n",
        "    return a + b\n",
        "\n",
        "print(suma(2, 3))  # Salida: 5\n",
        "\n",
        "```\n",
        "\n"
      ],
      "metadata": {
        "id": "55IYRtpADJsz"
      }
    },
    {
      "cell_type": "markdown",
      "source": [
        "30.**TRY:**\n",
        "Se usa para manejar errores en un bloque de código.\n",
        "#ejemplo:\n",
        "```\n",
        "try:\n",
        "    x = int(\"Hola\")\n",
        "except ValueError:\n",
        "    print(\"Error de conversión\")\n",
        "\n",
        "```\n",
        "\n"
      ],
      "metadata": {
        "id": "8Kj9IBgsDRli"
      }
    },
    {
      "cell_type": "markdown",
      "source": [
        "31.**WHILE:**\n",
        "Crea un bucle que se ejecuta mientras una condición sea verdadera.\n",
        "#ejemplo:\n",
        "```\n",
        "x = 0\n",
        "while x < 3:\n",
        "    print(x)\n",
        "    x += 1\n",
        "\n",
        "```\n",
        "\n"
      ],
      "metadata": {
        "id": "mDACHnh2Da0B"
      }
    },
    {
      "cell_type": "markdown",
      "source": [
        "32.**WITH:**\n",
        "Se usa para manejar recursos como archivos.\n",
        "#ejemplo:\n",
        "```\n",
        "with open(\"archivo.txt\", \"w\") as f:\n",
        "    f.write(\"Hola\")\n",
        "\n",
        "```\n",
        "\n"
      ],
      "metadata": {
        "id": "CClH2jCnDi3N"
      }
    },
    {
      "cell_type": "markdown",
      "source": [
        "33.**YIELD:**\n",
        "Se usa en funciones generadoras para devolver valores de forma paulatina.\n",
        "#ejemplo:\n",
        "```\n",
        "def contar():\n",
        "    for i in range(3):\n",
        "        yield i\n",
        "\n",
        "for num in contar():\n",
        "    print(num)\n",
        "\n",
        "```\n",
        "\n"
      ],
      "metadata": {
        "id": "gdiiz4SYD50I"
      }
    },
    {
      "cell_type": "markdown",
      "source": [
        "###BIBLIOGRAFIA:\n",
        "Van Rossum, G., & Drake Jr, F. L. (2009). The Python Language Reference Manual. Network Theory Ltd.\n",
        "\n",
        "Beazley, D. M. (2009). Python Essential Reference (4th Edition). Addison-Wesley Professional.\n",
        "\n",
        "Wikipedia. (2024). Python (lenguaje de programación).\n",
        "\n",
        "W3Schools. (2024). Python Tutorial."
      ],
      "metadata": {
        "id": "9nuGJXCYERpW"
      }
    }
  ]
}