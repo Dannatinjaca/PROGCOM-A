{
  "nbformat": 4,
  "nbformat_minor": 0,
  "metadata": {
    "colab": {
      "provenance": [],
      "authorship_tag": "ABX9TyMdS8YRtvo1Fliqy1aPXPfF",
      "include_colab_link": true
    },
    "kernelspec": {
      "name": "python3",
      "display_name": "Python 3"
    },
    "language_info": {
      "name": "python"
    }
  },
  "cells": [
    {
      "cell_type": "markdown",
      "metadata": {
        "id": "view-in-github",
        "colab_type": "text"
      },
      "source": [
        "<a href=\"https://colab.research.google.com/github/Dannatinjaca/PROGCOM-A/blob/main/Actividad_de_clase_funci%C3%B3n_lamdal_funcion_normal.ipynb\" target=\"_parent\"><img src=\"https://colab.research.google.com/assets/colab-badge.svg\" alt=\"Open In Colab\"/></a>"
      ]
    },
    {
      "cell_type": "markdown",
      "source": [
        "##funcion def\n"
      ],
      "metadata": {
        "id": "gd3VyqpvXxhh"
      }
    },
    {
      "cell_type": "code",
      "source": [
        "def potencia(base, exponente):\n",
        "    resultado = 1\n",
        "    for _ in range(exponente):\n",
        "        resultado *= base\n",
        "    return resultado\n",
        "\n"
      ],
      "metadata": {
        "id": "SNHvt3HuX1Ix"
      },
      "execution_count": 3,
      "outputs": []
    },
    {
      "cell_type": "code",
      "source": [
        "#tabla de multiplicar\n",
        "def tablas_multiplicar():\n",
        "    for i in range(1, 11):\n",
        "        for j in range(1, 11):\n",
        "            print(f\"{i} x {j} = {i * j}\")\n",
        "        print()\n"
      ],
      "metadata": {
        "id": "wttYW4CSYsTI"
      },
      "execution_count": null,
      "outputs": []
    },
    {
      "cell_type": "code",
      "source": [
        "# Números perfectos hasta n\n",
        "def numeros_perfectos(n):\n",
        "    perfectos = []\n",
        "    for num in range(2, n + 1):\n",
        "        if sum(i for i in range(1, num) if num % i == 0) == num:\n",
        "            perfectos.append(num)\n",
        "    return perfectos"
      ],
      "metadata": {
        "id": "l0JPJWzDYuwW"
      },
      "execution_count": null,
      "outputs": []
    },
    {
      "cell_type": "code",
      "source": [
        "# Patrón de diamante\n",
        "def diamante(n):\n",
        "    for i in range(1, n + 1, 2):\n",
        "        print(\" \" * ((n - i) // 2) + \"*\" * i)\n",
        "    for i in range(n - 2, 0, -2):\n",
        "        print(\" \" * ((n - i) // 2) + \"*\" * i)"
      ],
      "metadata": {
        "id": "OLEXkw3AY43I"
      },
      "execution_count": null,
      "outputs": []
    },
    {
      "cell_type": "code",
      "source": [
        "# Números Armstrong hasta n\n",
        "def es_armstrong(num):\n",
        "    return num == sum(int(d)**len(str(num)) for d in str(num))\n",
        "\n",
        "def numeros_armstrong(n):\n",
        "    return [num for num in range(n + 1) if es_armstrong(num)]"
      ],
      "metadata": {
        "id": "VYtJsbFmY7rz"
      },
      "execution_count": null,
      "outputs": []
    },
    {
      "cell_type": "code",
      "source": [
        "# Simulación de reloj digital\n",
        "def reloj_digital(horas, minutos, segundos):\n",
        "    for h in range(horas):\n",
        "        for m in range(minutos):\n",
        "            for s in range(segundos):\n",
        "                print(f\"{h:02}:{m:02}:{s:02}\")"
      ],
      "metadata": {
        "id": "avkeAwOQZAcm"
      },
      "execution_count": null,
      "outputs": []
    },
    {
      "cell_type": "markdown",
      "source": [
        "##funciones lambda:\n"
      ],
      "metadata": {
        "id": "l7hiDXkRZGBQ"
      }
    },
    {
      "cell_type": "code",
      "source": [
        "#potenciar\n",
        "potencia_lambda = lambda base, exponente: 1 if exponente == 0 else base * potencia_lambda(base, exponente - 1)\n"
      ],
      "metadata": {
        "id": "Iqq55uLmZK7j"
      },
      "execution_count": null,
      "outputs": []
    },
    {
      "cell_type": "code",
      "source": [
        "#tabla multiplicar\n",
        "tablas_lambda = lambda: [[print(f\"{i} x {j} = {i * j}\") for j in range(1, 11)] and print() for i in range(1, 11)]\n"
      ],
      "metadata": {
        "id": "X0al62WFZd4O"
      },
      "execution_count": null,
      "outputs": []
    },
    {
      "cell_type": "code",
      "source": [
        "#Números perfectos hasta n\n",
        "numeros_perfectos_lambda = lambda n: [num for num in range(2, n + 1) if sum(i for i in range(1, num) if num % i == 0) == num]\n"
      ],
      "metadata": {
        "id": "l8PpQqb1ZhBh"
      },
      "execution_count": null,
      "outputs": []
    },
    {
      "cell_type": "code",
      "source": [
        "# Patrón de diamante\n",
        "diamante_lambda = lambda n: [print(\" \" * ((n - i) // 2) + \"*\" * i) for i in list(range(1, n + 1, 2)) + list(range(n - 2, 0, -2))]\n"
      ],
      "metadata": {
        "id": "__g6kswJZm3D"
      },
      "execution_count": null,
      "outputs": []
    },
    {
      "cell_type": "code",
      "source": [
        "# Números Armstrong hasta n\n",
        "numeros_armstrong_lambda = lambda n: [num for num in range(n + 1) if num == sum(int(d)**len(str(num)) for d in str(num))]\n"
      ],
      "metadata": {
        "id": "KYWD6NlHZqOr"
      },
      "execution_count": null,
      "outputs": []
    }
  ]
}