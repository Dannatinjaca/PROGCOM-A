{
  "nbformat": 4,
  "nbformat_minor": 0,
  "metadata": {
    "colab": {
      "provenance": [],
      "authorship_tag": "ABX9TyPiMgxYZaikhgwf4aVYFMy6",
      "include_colab_link": true
    },
    "kernelspec": {
      "name": "python3",
      "display_name": "Python 3"
    },
    "language_info": {
      "name": "python"
    }
  },
  "cells": [
    {
      "cell_type": "markdown",
      "metadata": {
        "id": "view-in-github",
        "colab_type": "text"
      },
      "source": [
        "<a href=\"https://colab.research.google.com/github/Dannatinjaca/PROGCOM-A/blob/main/quest_juego_educativo.ipynb\" target=\"_parent\"><img src=\"https://colab.research.google.com/assets/colab-badge.svg\" alt=\"Open In Colab\"/></a>"
      ]
    },
    {
      "cell_type": "code",
      "source": [
        "!pip install gradio --quiet\n",
        "\n",
        "import gradio as gr\n",
        "import random\n",
        "\n",
        "def obtener_pregunta():\n",
        "    preguntas = [\n",
        "        {\"pregunta\": \"¿Cuál es la unidad básica de la vida?\", \"opciones\": [\"Átomo\", \"Célula\", \"Tejido\", \"Órgano\"], \"respuesta\": \"Célula\", \"explicacion\": \"Las células son las unidades básicas estructurales y funcionales de todos los seres vivos.\"},\n",
        "        {\"pregunta\": \"¿Qué órgano bombea la sangre en el cuerpo humano?\", \"opciones\": [\"Hígado\", \"Riñón\", \"Pulmón\", \"Corazón\"], \"respuesta\": \"Corazón\", \"explicacion\": \"El corazón es el órgano principal del sistema circulatorio y se encarga de bombear la sangre a todo el cuerpo.\"},\n",
        "        {\"pregunta\": \"¿Cuál de los siguientes es un ecosistema terrestre?\", \"opciones\": [\"Océano\", \"Bosque\", \"Arrecife de coral\", \"Lago\"], \"respuesta\": \"Bosque\", \"explicacion\": \"Los bosques son ecosistemas terrestres caracterizados por una alta densidad de árboles y una gran biodiversidad.\"}\n",
        "    ]\n",
        "    return random.choice(preguntas)\n",
        "\n",
        "pregunta_actual = obtener_pregunta()\n",
        "\n",
        "def verificar_respuesta(eleccion):\n",
        "    global pregunta_actual\n",
        "    if eleccion == pregunta_actual[\"respuesta\"]:\n",
        "        resultado = \"✅ ¡Correcto!\"\n",
        "    else:\n",
        "        resultado = f\"❌ Incorrecto. La respuesta correcta es {pregunta_actual['respuesta']}\"\n",
        "\n",
        "    explicacion = pregunta_actual[\"explicacion\"]\n",
        "    pregunta_actual = obtener_pregunta()\n",
        "    return resultado, explicacion, pregunta_actual[\"pregunta\"], pregunta_actual[\"opciones\"]\n",
        "\n",
        "def interfaz_juego():\n",
        "    global pregunta_actual\n",
        "    with gr.Blocks() as app:\n",
        "        gr.Markdown(\"## 🧬 Juego de Biología\")\n",
        "        pregunta_texto = gr.Textbox(value=pregunta_actual[\"pregunta\"], label=\"Pregunta\", interactive=False)\n",
        "        opciones = gr.Radio(pregunta_actual[\"opciones\"], label=\"Elige una opción\")\n",
        "        boton = gr.Button(\"Responder\")\n",
        "        salida_texto = gr.Textbox(label=\"Resultado\", interactive=False)\n",
        "        salida_explicacion = gr.Textbox(label=\"Explicación\", interactive=False)\n",
        "\n",
        "        def actualizar(eleccion):\n",
        "            resultado, explicacion, nueva_pregunta, nuevas_opciones = verificar_respuesta(eleccion)\n",
        "            return resultado, explicacion, nueva_pregunta, gr.update(choices=nuevas_opciones)\n",
        "\n",
        "        boton.click(actualizar, inputs=[opciones], outputs=[salida_texto, salida_explicacion, pregunta_texto, opciones])\n",
        "\n",
        "    return app\n",
        "\n",
        "app = interfaz_juego()\n",
        "app.launch()\n"
      ],
      "metadata": {
        "colab": {
          "base_uri": "https://localhost:8080/",
          "height": 645
        },
        "id": "phXShYt7hXlj",
        "outputId": "2724b7e6-d20d-4907-c359-66cc12bd197c"
      },
      "execution_count": 15,
      "outputs": [
        {
          "output_type": "stream",
          "name": "stdout",
          "text": [
            "Running Gradio in a Colab notebook requires sharing enabled. Automatically setting `share=True` (you can turn this off by setting `share=False` in `launch()` explicitly).\n",
            "\n",
            "Colab notebook detected. To show errors in colab notebook, set debug=True in launch()\n",
            "* Running on public URL: https://b62cc26a747aa5a26b.gradio.live\n",
            "\n",
            "This share link expires in 72 hours. For free permanent hosting and GPU upgrades, run `gradio deploy` from the terminal in the working directory to deploy to Hugging Face Spaces (https://huggingface.co/spaces)\n"
          ]
        },
        {
          "output_type": "display_data",
          "data": {
            "text/plain": [
              "<IPython.core.display.HTML object>"
            ],
            "text/html": [
              "<div><iframe src=\"https://b62cc26a747aa5a26b.gradio.live\" width=\"100%\" height=\"500\" allow=\"autoplay; camera; microphone; clipboard-read; clipboard-write;\" frameborder=\"0\" allowfullscreen></iframe></div>"
            ]
          },
          "metadata": {}
        },
        {
          "output_type": "execute_result",
          "data": {
            "text/plain": []
          },
          "metadata": {},
          "execution_count": 15
        }
      ]
    }
  ]
}