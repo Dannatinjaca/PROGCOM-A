{
  "nbformat": 4,
  "nbformat_minor": 0,
  "metadata": {
    "colab": {
      "provenance": [],
      "authorship_tag": "ABX9TyNJy7NVE0bxYAcbTgznH3su",
      "include_colab_link": true
    },
    "kernelspec": {
      "name": "python3",
      "display_name": "Python 3"
    },
    "language_info": {
      "name": "python"
    }
  },
  "cells": [
    {
      "cell_type": "markdown",
      "metadata": {
        "id": "view-in-github",
        "colab_type": "text"
      },
      "source": [
        "<a href=\"https://colab.research.google.com/github/Dannatinjaca/PROGCOM-A/blob/main/Actividad_clase_%22ARCHIVOS%22PROGCOM_A.ipynb\" target=\"_parent\"><img src=\"https://colab.research.google.com/assets/colab-badge.svg\" alt=\"Open In Colab\"/></a>"
      ]
    },
    {
      "cell_type": "code",
      "execution_count": 1,
      "metadata": {
        "colab": {
          "base_uri": "https://localhost:8080/"
        },
        "id": "Wovk3AO6FKan",
        "outputId": "ef54f68b-17cd-4973-c6a2-cf458a6fcd45"
      },
      "outputs": [
        {
          "output_type": "stream",
          "name": "stdout",
          "text": [
            "contenido del archivo\n",
            "hola, mundo\n",
            "contenido del archivo\n",
            "hola, mundo/nAdios mundo\n"
          ]
        }
      ],
      "source": [
        "archivo= open(\"hola.txt\",\"w\")\n",
        "archivo.write(\"hola, mundo\")\n",
        "archivo. close()\n",
        "archivo= open(\"hola.txt\",\"r\")\n",
        "contenido= archivo.read()\n",
        "print(\"contenido del archivo\")\n",
        "print(contenido)\n",
        "archivo.close()\n",
        "archivo= open(\"hola.txt\",\"a\")\n",
        "archivo.write(\"/nAdios mundo\")\n",
        "archivo.close()\n",
        "archivo= open(\"hola.txt\",\"r\")\n",
        "contenido=archivo.read()\n",
        "print(\"contenido del archivo\")\n",
        "print(contenido)\n",
        "archivo.close()\n",
        "\n"
      ]
    },
    {
      "cell_type": "code",
      "source": [
        "nombre = input(\"Escribe tu nombre completo: \")\n",
        "carrera = input(\"Escribe tu carrera: \")\n",
        "codigo = input(\"Escribe tu código de estudiante: \")\n",
        "\n",
        "archivo = open(f\"{codigo}.txt\", \"w\")\n",
        "archivo.write(f\"Nombre: {nombre}\\n\")\n",
        "archivo.write(f\"Carrera: {carrera}\\n\")\n",
        "archivo.close()\n",
        "\n",
        "archivo = open(f\"{codigo}.txt\", \"r\")\n",
        "contenido = archivo.read()\n",
        "print(\"Contenido del archivo tras la escritura inicial:\")\n",
        "print(contenido)\n",
        "archivo.close()\n",
        "\n",
        "archivo = open(f\"{codigo}.txt\", \"a\")\n",
        "archivo.write(\"\\nGracias por revisar mi archivo.\")\n",
        "archivo.close()\n",
        "\n",
        "archivo = open(f\"{codigo}.txt\", \"r\")\n",
        "contenido = archivo.read()\n",
        "print(\"\\nContenido del archivo tras agregar línea final:\")\n",
        "print(contenido)\n",
        "archivo.close()\n"
      ],
      "metadata": {
        "colab": {
          "base_uri": "https://localhost:8080/"
        },
        "id": "kOZDZTT1MrVq",
        "outputId": "6327671c-a7f7-445e-b09a-9b676a375ac5"
      },
      "execution_count": 5,
      "outputs": [
        {
          "output_type": "stream",
          "name": "stdout",
          "text": [
            "Escribe tu nombre completo: danna \n",
            "Escribe tu carrera: ing.biomedica\n",
            "Escribe tu código de estudiante: U00183421\n",
            "Contenido del archivo tras la escritura inicial:\n",
            "Nombre: danna \n",
            "Carrera: ing.biomedica\n",
            "\n",
            "\n",
            "Contenido del archivo tras agregar línea final:\n",
            "Nombre: danna \n",
            "Carrera: ing.biomedica\n",
            "\n",
            "Gracias por revisar mi archivo.\n"
          ]
        }
      ]
    }
  ]
}